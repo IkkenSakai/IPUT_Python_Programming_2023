{
  "nbformat": 4,
  "nbformat_minor": 0,
  "metadata": {
    "colab": {
      "provenance": [],
      "authorship_tag": "ABX9TyNwAgjC4bPGvGzgLiAQl4n1",
      "include_colab_link": true
    },
    "kernelspec": {
      "name": "python3",
      "display_name": "Python 3"
    },
    "language_info": {
      "name": "python"
    }
  },
  "cells": [
    {
      "cell_type": "markdown",
      "metadata": {
        "id": "view-in-github",
        "colab_type": "text"
      },
      "source": [
        "<a href=\"https://colab.research.google.com/github/IkkenSakai/IPUT_Python_Programming_2023/blob/homework/23_05_hw_tk230422_SakaiIKKEN.ipynb\" target=\"_parent\"><img src=\"https://colab.research.google.com/assets/colab-badge.svg\" alt=\"Open In Colab\"/></a>"
      ]
    },
    {
      "cell_type": "code",
      "source": [
        "age = 27\n",
        "iput_member = True\n",
        "count = 20\n",
        "\n",
        "if age >= 3:\n",
        "    if age < 16:\n",
        "        print(\"チケット料金は500円ですl\")\n",
        "    elif iput_member:\n",
        "        if count % 10 == 0:\n",
        "            print(\"チケット料金は500円です!\")\n",
        "        else:\n",
        "            print(\"チケット料金は700円です!\")\n",
        "    else:\n",
        "        print(\"チケット料金は1000円です!\")\n",
        "else:\n",
        "    print(\"チケット料金は無料です。\")"
      ],
      "metadata": {
        "colab": {
          "base_uri": "https://localhost:8080/"
        },
        "id": "N742kSBRa82k",
        "outputId": "aa0399a3-a849-4c0f-851f-79a7f3445931"
      },
      "execution_count": null,
      "outputs": [
        {
          "output_type": "stream",
          "name": "stdout",
          "text": [
            "チケット料金は500円です!\n"
          ]
        }
      ]
    }
  ]
}