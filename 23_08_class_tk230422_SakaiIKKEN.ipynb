{
  "nbformat": 4,
  "nbformat_minor": 0,
  "metadata": {
    "colab": {
      "provenance": [],
      "authorship_tag": "ABX9TyP/r+Kc0f3HHh+Y0NpwCc2k",
      "include_colab_link": true
    },
    "kernelspec": {
      "name": "python3",
      "display_name": "Python 3"
    },
    "language_info": {
      "name": "python"
    }
  },
  "cells": [
    {
      "cell_type": "markdown",
      "metadata": {
        "id": "view-in-github",
        "colab_type": "text"
      },
      "source": [
        "<a href=\"https://colab.research.google.com/github/IkkenSakai/IPUT_Python_Programming_2023/blob/inclass_notes/23_08_class_tk230422_SakaiIKKEN.ipynb\" target=\"_parent\"><img src=\"https://colab.research.google.com/assets/colab-badge.svg\" alt=\"Open In Colab\"/></a>"
      ]
    },
    {
      "cell_type": "code",
      "execution_count": null,
      "metadata": {
        "id": "mgncdPOYTSwa"
      },
      "outputs": [],
      "source": [
        "\n",
        "#do debug! - to check whether my code causes error or not\n",
        "#read the instructions and question cafully!\n",
        "\n",
        "#list\n",
        "'''\n",
        "append = add number to the very last\n",
        "insert = add number between two elements(deside the address)\n",
        "\n",
        "pop = deside the address to delete <-> insert\n",
        "remove = deside the element directly to delete\"\n",
        "'''"
      ]
    },
    {
      "cell_type": "code",
      "source": [
        "list_num1 = [0, 1, 2, 3]\n",
        "print(\"初期 list_num : \", list_num1)\n",
        "#\"changed\" the element\n",
        "list_num1[0] = 9\n",
        "print(\"変更後: \", list_num1)\n",
        "#\"add\" the element\n",
        "list_num1.append(4)\n",
        "print(\"追加後: \", list_num1)\n",
        "#\"insert\" the element\n",
        "list_num1.insert(1,5)\n",
        "print(\"挿入後: \", list_num1)\n",
        "#\"delete\" the element (to deside which address to delete)\n",
        "pop1 = list_num1.pop(1)\n",
        "print(\"削除(添字指定): \", list_num1)\n",
        "list_num2 = [5,6,7,89, \"Python\"]\n",
        "print(\"初期list_num_str: \", list_num2)\n",
        "#\"delete\" the element(to deside which element directly to delete)\n",
        "remove1 = list_num2.remove(\"Python\")\n",
        "print(\"削除(位置指定): \", list_num2)\n",
        "#important that whether using return value\n",
        "print(\"pop: \", pop1, \"remove: \", remove1)\n",
        "#linking\n",
        "print(\"単純連結:\", list_num1 + list_num2)\n",
        "#change after linking\n",
        "list_num1.extend(list_num1)\n",
        "print(\"連結して変更:\", list_num2)"
      ],
      "metadata": {
        "colab": {
          "base_uri": "https://localhost:8080/"
        },
        "id": "vQkj0L_Sab4k",
        "outputId": "0ab5234e-330f-460c-9d1f-dab35c4c8214"
      },
      "execution_count": null,
      "outputs": [
        {
          "output_type": "stream",
          "name": "stdout",
          "text": [
            "初期 list_num :  [0, 1, 2, 3]\n",
            "変更後:  [9, 1, 2, 3]\n",
            "追加後:  [9, 1, 2, 3, 4]\n",
            "挿入後:  [9, 5, 1, 2, 3, 4]\n",
            "削除(添字指定):  [9, 1, 2, 3, 4]\n",
            "初期list_num_str:  [5, 6, 7, 89, 'Python']\n",
            "削除(位置指定):  [5, 6, 7, 89]\n",
            "pop:  5 remove:  None\n",
            "単純連結: [9, 1, 2, 3, 4, 5, 6, 7, 89]\n",
            "連結して変更: [5, 6, 7, 89]\n"
          ]
        }
      ]
    },
    {
      "cell_type": "code",
      "source": [
        "#8-1\n",
        "#1\n",
        "list1 = [1,2,3]\n",
        "list2 = [4,5,6]\n",
        "print(\"1: \", list1 + list2)\n",
        "#2\n",
        "list3 = [1,2,3,4,5]\n",
        "list3.append(6)\n",
        "list3.append(7)\n",
        "print(\"2: \", list3)\n",
        "#3\n",
        "list4 = [1,2,3,4,5]\n",
        "list4.insert(1, 100)\n",
        "print(\"3: \", list4)"
      ],
      "metadata": {
        "colab": {
          "base_uri": "https://localhost:8080/"
        },
        "id": "0j7AC2-fgjuM",
        "outputId": "d1f41c14-2a11-4f8a-99e7-0259b52e64c9"
      },
      "execution_count": null,
      "outputs": [
        {
          "output_type": "stream",
          "name": "stdout",
          "text": [
            "1:  [1, 2, 3, 4, 5, 6]\n",
            "2:  [1, 2, 3, 4, 5, 6, 7]\n",
            "3:  [1, 100, 2, 3, 4, 5]\n"
          ]
        }
      ]
    },
    {
      "cell_type": "code",
      "source": [
        "#8-2\n",
        "list5 = [1,2,3,4,5,6,7,8,9,10]\n",
        "for e in list5:\n",
        "    if e % 2 == 0:\n",
        "        print(e)"
      ],
      "metadata": {
        "colab": {
          "base_uri": "https://localhost:8080/"
        },
        "id": "35mjvfu9iCS6",
        "outputId": "b0ed2322-f4bc-41f3-bc7d-ca90e05f4369"
      },
      "execution_count": null,
      "outputs": [
        {
          "output_type": "stream",
          "name": "stdout",
          "text": [
            "2\n",
            "4\n",
            "6\n",
            "8\n",
            "10\n"
          ]
        }
      ]
    },
    {
      "cell_type": "code",
      "source": [
        "#8-2 advance\n",
        "list_5 = []\n",
        "for i in range(11):\n",
        "    list_5.append(i)\n",
        "\n",
        "print(list_5)\n",
        "\n",
        "length = len(list_5)\n",
        "for e in range(length):\n",
        "    if e % 2 == 0:\n",
        "        print(e)"
      ],
      "metadata": {
        "colab": {
          "base_uri": "https://localhost:8080/"
        },
        "id": "p36yuO8rkKzG",
        "outputId": "81aa7d43-13c9-4bb2-fc19-ffd61591ae1d"
      },
      "execution_count": null,
      "outputs": [
        {
          "output_type": "stream",
          "name": "stdout",
          "text": [
            "[0, 1, 2, 3, 4, 5, 6, 7, 8, 9, 10]\n",
            "0\n",
            "2\n",
            "4\n",
            "6\n",
            "8\n",
            "10\n"
          ]
        }
      ]
    },
    {
      "cell_type": "code",
      "source": [
        "list_num3 = [0,1,1,2,3,5,8,13,21,34,55]\n",
        "print(\"初期リスト3: \", list_num3)\n",
        "print(\"スライス0~3: \", list_num3[0:3])\n",
        "print(\"スライス2~5: \", list_num3[2:5])\n",
        "print(\"スライス2~: \", list_num3[2:])\n",
        "print(\"スライス~4: \", list_num3[:4])"
      ],
      "metadata": {
        "colab": {
          "base_uri": "https://localhost:8080/"
        },
        "id": "gyzhC--wk0jt",
        "outputId": "8afe18f7-2dcc-4ab4-d46c-93a807bfba43"
      },
      "execution_count": null,
      "outputs": [
        {
          "output_type": "stream",
          "name": "stdout",
          "text": [
            "初期リスト3:  [0, 1, 1, 2, 3, 5, 8, 13, 21, 34, 55]\n",
            "スライス0~3:  [0, 1, 1]\n",
            "スライス2~5:  [1, 2, 3]\n",
            "スライス2~:  [1, 2, 3, 5, 8, 13, 21, 34, 55]\n",
            "スライス~4:  [0, 1, 1, 2]\n"
          ]
        }
      ]
    },
    {
      "cell_type": "code",
      "source": [
        "#8-3\n",
        "list6 = [1,2,3,4,5,6,7,8,9,10,11,12]\n",
        "#1\n",
        "print(\"1: \", list6[::2])\n",
        "#2\n",
        "print(\"2: \", list6[1::2])\n",
        "#3\n",
        "print(\"3: \", list6[2::3])"
      ],
      "metadata": {
        "colab": {
          "base_uri": "https://localhost:8080/"
        },
        "id": "8LSaOaTgnLxm",
        "outputId": "f21aed4e-b55a-4dcd-f6ec-f22f47cd19c7"
      },
      "execution_count": null,
      "outputs": [
        {
          "output_type": "stream",
          "name": "stdout",
          "text": [
            "1:  [1, 3, 5, 7, 9, 11]\n",
            "2:  [2, 4, 6, 8, 10, 12]\n",
            "3:  [3, 6, 9, 12]\n"
          ]
        }
      ]
    },
    {
      "cell_type": "code",
      "source": [
        "#8-3 advance\n",
        "n = int(input(\"enter the number: \"))\n"
      ],
      "metadata": {
        "id": "RZ8jCkQPoRwC"
      },
      "execution_count": null,
      "outputs": []
    }
  ]
}