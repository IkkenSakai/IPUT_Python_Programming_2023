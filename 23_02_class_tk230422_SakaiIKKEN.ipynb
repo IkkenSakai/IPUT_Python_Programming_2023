{
  "nbformat": 4,
  "nbformat_minor": 0,
  "metadata": {
    "colab": {
      "provenance": [],
      "authorship_tag": "ABX9TyOJrzQsNbQFRwCP09O5i99X",
      "include_colab_link": true
    },
    "kernelspec": {
      "name": "python3",
      "display_name": "Python 3"
    },
    "language_info": {
      "name": "python"
    }
  },
  "cells": [
    {
      "cell_type": "markdown",
      "metadata": {
        "id": "view-in-github",
        "colab_type": "text"
      },
      "source": [
        "<a href=\"https://colab.research.google.com/github/IkkenSakai/IPUT_Python_Programming_2023/blob/main/23_02_class_tk230422_SakaiIKKEN.ipynb\" target=\"_parent\"><img src=\"https://colab.research.google.com/assets/colab-badge.svg\" alt=\"Open In Colab\"/></a>"
      ]
    },
    {
      "cell_type": "code",
      "execution_count": null,
      "metadata": {
        "colab": {
          "base_uri": "https://localhost:8080/"
        },
        "id": "mzeeqFuHwQ8R",
        "outputId": "e5a51867-7e76-4d7e-8d2f-0c2695347d76"
      },
      "outputs": [
        {
          "output_type": "stream",
          "name": "stdout",
          "text": [
            "1\n"
          ]
        },
        {
          "output_type": "execute_result",
          "data": {
            "text/plain": [
              "1"
            ]
          },
          "metadata": {},
          "execution_count": 2
        }
      ],
      "source": [
        "#演算子と変数\n",
        "\n",
        "#変数 = variables\n",
        "\n",
        "a = 1\n",
        "print(a)\n",
        "a #これ（変数のみ）も実行されるが基本的には使わない\n",
        "\n",
        "'''\n",
        "変数名のポイント！（教科書P45）\n",
        "OK - 変数名はアルファベット、数字、アンダースコア（Notバー）のみ\n",
        "NG - 数字を変数名の最初 / 一部の単語のみ ex) if, is, not...\n",
        "タブー - 先頭に大文字、アンダースコア\n",
        "'''\n",
        "'''\n",
        "重要ポイント！\n",
        "C言語みたいに型の名前は書かなくて良いが、コメントを書いておく\n",
        "応用）complex型 - 複素数\n",
        "'''\n",
        "#演算子\n",
        "\n",
        "#教科書P26 - 演算子一覧\n",
        "#切り捨て除算 - 10 // 3\n",
        "#Pythonは演算子の優先順位を自動で処理してくれる\n",
        "\n",
        "'''\n",
        "重要ポイント！！\n",
        "インクリメント（デクリメント）演算子は使えない ex) C言語の i++\n",
        "'''\n",
        "\n",
        "#Syntax Error = 構文エラー\n",
        "#Type Error = 型エラー\n",
        "\n",
        "#型を指定することでType Errorを修正 ex) int(2500) + \"円\"\n"
      ]
    },
    {
      "cell_type": "code",
      "source": [
        "a = 1 #int\n",
        "print(a)\n"
      ],
      "metadata": {
        "colab": {
          "base_uri": "https://localhost:8080/"
        },
        "id": "2eeFxSBm0osD",
        "outputId": "45b6b483-2f79-4b0c-8b1c-de5746f20ea4"
      },
      "execution_count": null,
      "outputs": [
        {
          "output_type": "stream",
          "name": "stdout",
          "text": [
            "1\n"
          ]
        }
      ]
    },
    {
      "cell_type": "code",
      "source": [
        "b = 1.2 #float\n",
        "print(b)"
      ],
      "metadata": {
        "colab": {
          "base_uri": "https://localhost:8080/"
        },
        "id": "IWY6oQ-V0o1q",
        "outputId": "6e2d4905-63e3-4e44-b956-78ef84321bce"
      },
      "execution_count": null,
      "outputs": [
        {
          "output_type": "stream",
          "name": "stdout",
          "text": [
            "1.2\n"
          ]
        }
      ]
    },
    {
      "cell_type": "code",
      "source": [
        "c = \"Python\" #str\n",
        "print(c)"
      ],
      "metadata": {
        "colab": {
          "base_uri": "https://localhost:8080/"
        },
        "id": "bgrk7Ypz0o-q",
        "outputId": "b44c7647-13f5-4ca2-fff5-e7c049016369"
      },
      "execution_count": null,
      "outputs": [
        {
          "output_type": "stream",
          "name": "stdout",
          "text": [
            "Python\n"
          ]
        }
      ]
    },
    {
      "cell_type": "code",
      "source": [
        "0.1 + 0.1 + 0.1 #結果が合わないから型指定が必要"
      ],
      "metadata": {
        "colab": {
          "base_uri": "https://localhost:8080/"
        },
        "id": "pOuL4_gY2Wf6",
        "outputId": "465c7d06-6e29-470e-b270-b27204470d9e"
      },
      "execution_count": null,
      "outputs": [
        {
          "output_type": "execute_result",
          "data": {
            "text/plain": [
              "0.30000000000000004"
            ]
          },
          "metadata": {},
          "execution_count": 7
        }
      ]
    },
    {
      "cell_type": "code",
      "source": [
        "10 + 3"
      ],
      "metadata": {
        "colab": {
          "base_uri": "https://localhost:8080/"
        },
        "id": "_flwEkYx3GJr",
        "outputId": "e292f134-8906-4900-c8ad-7ddf3a9f7292"
      },
      "execution_count": null,
      "outputs": [
        {
          "output_type": "execute_result",
          "data": {
            "text/plain": [
              "13"
            ]
          },
          "metadata": {},
          "execution_count": 8
        }
      ]
    },
    {
      "cell_type": "code",
      "source": [
        "10 - 3"
      ],
      "metadata": {
        "colab": {
          "base_uri": "https://localhost:8080/"
        },
        "id": "Lq8YHuxu3GT0",
        "outputId": "1e89e7d9-9954-4c98-8d0f-3b6f804600d1"
      },
      "execution_count": null,
      "outputs": [
        {
          "output_type": "execute_result",
          "data": {
            "text/plain": [
              "7"
            ]
          },
          "metadata": {},
          "execution_count": 9
        }
      ]
    },
    {
      "cell_type": "code",
      "source": [
        "10 * 3"
      ],
      "metadata": {
        "colab": {
          "base_uri": "https://localhost:8080/"
        },
        "id": "zqZVSuGr3GaU",
        "outputId": "78a43954-7ac6-4563-ad63-27e75ff41087"
      },
      "execution_count": null,
      "outputs": [
        {
          "output_type": "execute_result",
          "data": {
            "text/plain": [
              "30"
            ]
          },
          "metadata": {},
          "execution_count": 11
        }
      ]
    },
    {
      "cell_type": "code",
      "source": [
        "10 / 3"
      ],
      "metadata": {
        "colab": {
          "base_uri": "https://localhost:8080/"
        },
        "id": "GVAsfaxq3Gh4",
        "outputId": "7475bf05-c39e-4d59-86d7-558a8cafac7a"
      },
      "execution_count": null,
      "outputs": [
        {
          "output_type": "execute_result",
          "data": {
            "text/plain": [
              "3.3333333333333335"
            ]
          },
          "metadata": {},
          "execution_count": 12
        }
      ]
    },
    {
      "cell_type": "code",
      "source": [
        "10 % 3"
      ],
      "metadata": {
        "colab": {
          "base_uri": "https://localhost:8080/"
        },
        "id": "GOrLsdAF3Gre",
        "outputId": "bcca65b6-a668-41a4-bc60-0e941fd34307"
      },
      "execution_count": null,
      "outputs": [
        {
          "output_type": "execute_result",
          "data": {
            "text/plain": [
              "1"
            ]
          },
          "metadata": {},
          "execution_count": 13
        }
      ]
    },
    {
      "cell_type": "code",
      "source": [
        "10 ** 3"
      ],
      "metadata": {
        "colab": {
          "base_uri": "https://localhost:8080/"
        },
        "id": "9qwzoCH-3HNe",
        "outputId": "e42e7962-43f8-418d-b013-00f08be1e39f"
      },
      "execution_count": null,
      "outputs": [
        {
          "output_type": "execute_result",
          "data": {
            "text/plain": [
              "1000"
            ]
          },
          "metadata": {},
          "execution_count": 14
        }
      ]
    },
    {
      "cell_type": "code",
      "source": [
        "10 // 3"
      ],
      "metadata": {
        "colab": {
          "base_uri": "https://localhost:8080/"
        },
        "id": "WJlcfdES4GXr",
        "outputId": "92d7c675-164b-4909-e4f3-05ceacb0008a"
      },
      "execution_count": null,
      "outputs": [
        {
          "output_type": "execute_result",
          "data": {
            "text/plain": [
              "3"
            ]
          },
          "metadata": {},
          "execution_count": 15
        }
      ]
    },
    {
      "cell_type": "code",
      "source": [
        "10 + 3 * 5 - 2"
      ],
      "metadata": {
        "colab": {
          "base_uri": "https://localhost:8080/"
        },
        "id": "UiDcHS9Z5hXT",
        "outputId": "97c820f2-3d6f-4b6a-df5f-fce22f72f7f1"
      },
      "execution_count": null,
      "outputs": [
        {
          "output_type": "execute_result",
          "data": {
            "text/plain": [
              "23"
            ]
          },
          "metadata": {},
          "execution_count": 19
        }
      ]
    },
    {
      "cell_type": "code",
      "source": [
        "(10+3) * (5 - 2) #優先順位が変わるから実行結果も変わる"
      ],
      "metadata": {
        "colab": {
          "base_uri": "https://localhost:8080/"
        },
        "id": "g9CzOQKA5ler",
        "outputId": "f813b442-5cff-46e7-cdb9-0e0ddebba08f"
      },
      "execution_count": null,
      "outputs": [
        {
          "output_type": "execute_result",
          "data": {
            "text/plain": [
              "39"
            ]
          },
          "metadata": {},
          "execution_count": 17
        }
      ]
    },
    {
      "cell_type": "code",
      "source": [
        "name = \"坂井\" + \"壱謙\"\n",
        "print(name)"
      ],
      "metadata": {
        "colab": {
          "base_uri": "https://localhost:8080/"
        },
        "id": "rxV37UKw75q-",
        "outputId": "2306743e-e1f2-4f2c-d3f3-08092abc4639"
      },
      "execution_count": null,
      "outputs": [
        {
          "output_type": "stream",
          "name": "stdout",
          "text": [
            "坂井壱謙\n"
          ]
        }
      ]
    },
    {
      "cell_type": "code",
      "source": [
        "price = 2500 + \"円\" #int + str　は Type Errorが出る\n",
        "print(price)"
      ],
      "metadata": {
        "colab": {
          "base_uri": "https://localhost:8080/",
          "height": 193
        },
        "id": "39rLxse28fEY",
        "outputId": "26d341b1-490b-4fe8-b57f-5e1fb08d07d3"
      },
      "execution_count": null,
      "outputs": [
        {
          "output_type": "error",
          "ename": "TypeError",
          "evalue": "ignored",
          "traceback": [
            "\u001b[0;31m---------------------------------------------------------------------------\u001b[0m",
            "\u001b[0;31mTypeError\u001b[0m                                 Traceback (most recent call last)",
            "\u001b[0;32m<ipython-input-21-48115c598e2f>\u001b[0m in \u001b[0;36m<cell line: 1>\u001b[0;34m()\u001b[0m\n\u001b[0;32m----> 1\u001b[0;31m \u001b[0mprice\u001b[0m \u001b[0;34m=\u001b[0m \u001b[0;36m2500\u001b[0m \u001b[0;34m+\u001b[0m \u001b[0;34m\"円\"\u001b[0m\u001b[0;34m\u001b[0m\u001b[0;34m\u001b[0m\u001b[0m\n\u001b[0m\u001b[1;32m      2\u001b[0m \u001b[0mprint\u001b[0m\u001b[0;34m(\u001b[0m\u001b[0mprice\u001b[0m\u001b[0;34m)\u001b[0m\u001b[0;34m\u001b[0m\u001b[0;34m\u001b[0m\u001b[0m\n",
            "\u001b[0;31mTypeError\u001b[0m: unsupported operand type(s) for +: 'int' and 'str'"
          ]
        }
      ]
    },
    {
      "cell_type": "code",
      "source": [
        "price = str(2500) + \"円\" #型を指定するとなくなる\n",
        "print(price)"
      ],
      "metadata": {
        "colab": {
          "base_uri": "https://localhost:8080/"
        },
        "id": "e_YGD4bl9Eq3",
        "outputId": "6ab7fafa-58d8-445d-e7f0-7d3dc9c91499"
      },
      "execution_count": null,
      "outputs": [
        {
          "output_type": "stream",
          "name": "stdout",
          "text": [
            "2500円\n"
          ]
        }
      ]
    }
  ]
}