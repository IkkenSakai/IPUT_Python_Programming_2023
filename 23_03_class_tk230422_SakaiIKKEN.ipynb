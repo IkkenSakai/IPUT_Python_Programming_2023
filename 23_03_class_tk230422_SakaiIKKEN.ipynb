{
  "nbformat": 4,
  "nbformat_minor": 0,
  "metadata": {
    "colab": {
      "provenance": [],
      "authorship_tag": "ABX9TyNetzZKjN7CKK/v3mSZoe5S",
      "include_colab_link": true
    },
    "kernelspec": {
      "name": "python3",
      "display_name": "Python 3"
    },
    "language_info": {
      "name": "python"
    }
  },
  "cells": [
    {
      "cell_type": "markdown",
      "metadata": {
        "id": "view-in-github",
        "colab_type": "text"
      },
      "source": [
        "<a href=\"https://colab.research.google.com/github/IkkenSakai/IPUT_Python_Programming_2023/blob/inclass_notes/23_03_class_tk230422_SakaiIKKEN.ipynb\" target=\"_parent\"><img src=\"https://colab.research.google.com/assets/colab-badge.svg\" alt=\"Open In Colab\"/></a>"
      ]
    },
    {
      "cell_type": "code",
      "source": [
        "#Object指向 - クラスを基準としたプログラムを設計する方法論の一つ\n",
        "'''\n",
        "情報を一括管理する\n",
        "ex) name, age, int()...\n",
        "\n",
        "オブジェクトID --> オブジェクトの箱\n",
        "'''\n",
        "\n",
        "#オブジェクトとクラス\n",
        "'''\n",
        "クラスから生まれたオブジェクト --> インスタンス\n",
        "クラスからオブジェクトを作成 --> インスタンス化\n",
        "'''\n",
        "#正規表現\n",
        "'''\n",
        "ハッキングとかに使われる\n",
        "\n",
        "サンドイッチ方式（笑）\n",
        "string = /吾/輩/は/猫/で/あ/る/。/名/前/は/ま/だ/無/い/。\n",
        "--> \"猫\"は3,4の間にある = span(3,4)\n",
        "\n",
        "or検索 --> [猫犬] --> 猫or犬を見つけたい\n",
        "\n",
        "範囲検索 --> [1-5] ハイフンを使う\n",
        "\n",
        "'''\n",
        "\n",
        "#ひらがなの指定はunicodeを使うと便利\n",
        "#ひらがなも小文字が小さい --> [ぁ-ん]\n",
        "#漢字はCJK統合漢字で"
      ],
      "metadata": {
        "id": "zzOD3VdbMRY4"
      },
      "execution_count": null,
      "outputs": []
    },
    {
      "cell_type": "code",
      "source": [
        "name = input(\"あなたのあだ名を入力してください\")\n",
        "\n",
        "#文字列を入力しname変数に格納 --> 変数nameに文字列のオブジェクトIDを管理し、その型はstring\n",
        "\n",
        "\n",
        "print(\"あなたのあだ名は\", name, \"です\")         #name変数と文字列を出力\n",
        "print(type(name))                           #name変数には文字列が格納される\n",
        "\n",
        "'''\n",
        "output ---> classの型はstr\n",
        "'''"
      ],
      "metadata": {
        "colab": {
          "base_uri": "https://localhost:8080/"
        },
        "id": "YWfHGqD4HoQs",
        "outputId": "7eb39887-4109-4cc0-e999-e27f69d588ed"
      },
      "execution_count": null,
      "outputs": [
        {
          "output_type": "stream",
          "name": "stdout",
          "text": [
            "あなたのあだ名を入力してくださいIke\n",
            "あなたのあだ名は Ike です\n",
            "<class 'str'>\n"
          ]
        }
      ]
    },
    {
      "cell_type": "code",
      "source": [
        "name = \"さくらももこ\"\n",
        "age = int(9)\n",
        "blood = \"A\"\n",
        "birthday = float(19650508)\n",
        "print(name)\n",
        "print(age)\n",
        "print(blood)\n",
        "print(birthday)\n",
        "print(id(name))\n",
        "print(id(age))\n",
        "print(id(blood))\n",
        "print(id(birthday))"
      ],
      "metadata": {
        "colab": {
          "base_uri": "https://localhost:8080/"
        },
        "id": "02irD5RlK333",
        "outputId": "650c45c8-486d-45d7-b4dd-9aa6894571c4"
      },
      "execution_count": null,
      "outputs": [
        {
          "output_type": "stream",
          "name": "stdout",
          "text": [
            "さくらももこ\n",
            "9\n",
            "A\n",
            "19650508.0\n",
            "134600321776336\n",
            "134601592586736\n",
            "134601591445808\n",
            "134601164003600\n"
          ]
        }
      ]
    },
    {
      "cell_type": "code",
      "source": [
        "momoko_age = int(9) #ももこの年齢を設定\n",
        "print(id(momoko_age))\n",
        "\n",
        "#ももことたまちゃんの年齢オブジェクトIDを比較\n",
        "tamachan_age = 9\n",
        "print(\"ももこの年齢オブジェクトID: \", id(momoko_age))\n",
        "print(\"たまちゃんの年齢オブジェクトiD: \", id(tamachan_age))\n",
        "\n",
        "'''\n",
        "\n",
        "２つ箱を用意しているように見えて一つの住所で管理している\n",
        "--> オブジェクト指向\n",
        "(ポインタ変数に近いが、Pythonは勝手にやってくれる)\n",
        "\n",
        "'''"
      ],
      "metadata": {
        "colab": {
          "base_uri": "https://localhost:8080/"
        },
        "id": "35hIRh2INI5F",
        "outputId": "f798bae6-4c9a-4d01-f515-db60ce21ba77"
      },
      "execution_count": null,
      "outputs": [
        {
          "output_type": "stream",
          "name": "stdout",
          "text": [
            "134601592586736\n",
            "ももこの年齢オブジェクトID:  134601592586736\n",
            "たまちゃんの年齢オブジェクトiD:  134601592586736\n"
          ]
        }
      ]
    },
    {
      "cell_type": "code",
      "source": [
        "import re\n",
        "re.search(pattern = r\"猫\", string = \"吾輩は猫である。名前はまだ無い。\")\n",
        "#文字列から\"猫\"を探したい"
      ],
      "metadata": {
        "colab": {
          "base_uri": "https://localhost:8080/"
        },
        "id": "Q-cgDxTPSAIn",
        "outputId": "bb6c541d-c78f-4452-a17a-418ac71c5111"
      },
      "execution_count": null,
      "outputs": [
        {
          "output_type": "execute_result",
          "data": {
            "text/plain": [
              "<re.Match object; span=(3, 4), match='猫'>"
            ]
          },
          "metadata": {},
          "execution_count": 9
        }
      ]
    },
    {
      "cell_type": "code",
      "source": [
        "print(\"吾輩は\\n猫である。\\n名前はまだ無い。\")  #rなし\n",
        "print(\"-----------------------------\")\n",
        "print(r\"吾輩は\\n猫である。\\n名前はまだ無い。\") #rあり"
      ],
      "metadata": {
        "colab": {
          "base_uri": "https://localhost:8080/"
        },
        "id": "mi0LmfSnUL_x",
        "outputId": "84a9b3bd-aaf3-4f5b-c56e-fec63a03d77a"
      },
      "execution_count": null,
      "outputs": [
        {
          "output_type": "stream",
          "name": "stdout",
          "text": [
            "吾輩は\n",
            "猫である。\n",
            "名前はまだ無い。\n",
            "-----------------------------\n",
            "吾輩は\\n猫である。\\n名前はまだ無い。\n"
          ]
        }
      ]
    },
    {
      "cell_type": "code",
      "source": [
        "import re\n",
        "re.search(  #match = は不適切 --> なぜ？\n",
        "    pattern = r\"吾輩は[猫犬]である。名前はまだ無い。\",  #文章中から猫か犬を参照\n",
        "    string = \"吾輩は犬である。名前はまだ無い。\"\n",
        ")\n"
      ],
      "metadata": {
        "colab": {
          "base_uri": "https://localhost:8080/"
        },
        "id": "_VNMXAgtU-F3",
        "outputId": "4de1414b-07ed-4814-c8c2-aa05f8643bcb"
      },
      "execution_count": null,
      "outputs": [
        {
          "output_type": "execute_result",
          "data": {
            "text/plain": [
              "<re.Match object; span=(0, 16), match='吾輩は犬である。名前はまだ無い。'>"
            ]
          },
          "metadata": {},
          "execution_count": 22
        }
      ]
    },
    {
      "cell_type": "code",
      "source": [
        "import re\n",
        "re.search(\n",
        "    pattern = r\"[a-j]put\",  #文章中からa~jのアルファベットを参照\n",
        "    string = \"iput\"\n",
        ")"
      ],
      "metadata": {
        "colab": {
          "base_uri": "https://localhost:8080/"
        },
        "id": "9tAkY4VDWtAS",
        "outputId": "6b17cb3c-09a0-4efe-89b3-8b88a386ede4"
      },
      "execution_count": null,
      "outputs": [
        {
          "output_type": "execute_result",
          "data": {
            "text/plain": [
              "<re.Match object; span=(0, 4), match='iput'>"
            ]
          },
          "metadata": {},
          "execution_count": 19
        }
      ]
    }
  ]
}