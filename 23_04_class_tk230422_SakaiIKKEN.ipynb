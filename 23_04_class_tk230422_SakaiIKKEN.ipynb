{
  "nbformat": 4,
  "nbformat_minor": 0,
  "metadata": {
    "colab": {
      "provenance": [],
      "authorship_tag": "ABX9TyPXPp/kle76hNFOzGzDxxu6",
      "include_colab_link": true
    },
    "kernelspec": {
      "name": "python3",
      "display_name": "Python 3"
    },
    "language_info": {
      "name": "python"
    }
  },
  "cells": [
    {
      "cell_type": "markdown",
      "metadata": {
        "id": "view-in-github",
        "colab_type": "text"
      },
      "source": [
        "<a href=\"https://colab.research.google.com/github/IkkenSakai/IPUT_Python_Programming_2023/blob/inclass_notes/23_04_class_tk230422_SakaiIKKEN.ipynb\" target=\"_parent\"><img src=\"https://colab.research.google.com/assets/colab-badge.svg\" alt=\"Open In Colab\"/></a>"
      ]
    },
    {
      "cell_type": "code",
      "execution_count": null,
      "metadata": {
        "id": "-clptoywKSon"
      },
      "outputs": [],
      "source": [
        "#関数は70個くらいある\n",
        "#組込み関数以外はモジュールをimportする\n",
        "#標準モジュールはツールみたいなもん\n",
        "'''\n",
        "戻り値 - 変数で受け取る、引数は省略可能\n",
        "引数は道具の対象\n",
        "\n",
        "print(\"こんにちは\")\n",
        "--> こんにちはは引数\n",
        "--> printは戻り値なし(None)になる(省略されている)\n",
        "'''\n",
        "\n",
        "#print出力だけなら戻り値はいらない(書く必要性がない)(C言語も一緒)\n",
        "#組み込み関数 = built-in function\n",
        "\n",
        "#メソッド = クラスの中で定義された関数\n",
        "#メソッドは引数を省略できない！！！\n",
        "#第一引数に必ずselfを置く\n",
        "\n",
        "#pass, break, continueの違いを理解\n",
        "'''\n",
        "クラス内に定義する関数みたいなもの --> メソッド\n",
        "__init__関数ではなく__init__メソッド\n",
        "'''\n",
        "\n",
        "#from --- import --- --> 多くあるツールのうち一つをimport"
      ]
    },
    {
      "cell_type": "code",
      "source": [
        "戻り値 = print(\"最近引っ越したよ\")\n",
        "print(戻り値)\n",
        "#print関数は戻り値なし"
      ],
      "metadata": {
        "colab": {
          "base_uri": "https://localhost:8080/"
        },
        "id": "jQIS_4adPVvb",
        "outputId": "6798c371-e34f-4d82-800d-84da6bb9a877"
      },
      "execution_count": null,
      "outputs": [
        {
          "output_type": "stream",
          "name": "stdout",
          "text": [
            "最近引っ越したよ\n",
            "None\n"
          ]
        }
      ]
    },
    {
      "cell_type": "code",
      "source": [
        "#defを使って、円の面積を求めるcircle_info関数を自作\n",
        "def circle_info(radius):\n",
        "    area = radius * radius * 3.14\n",
        "    return area\n",
        "#関数を呼び出す(自作した関数を早速使ってみる)\n",
        "m = circle_info(5)\n",
        "#結果(戻り値を出力する)\n",
        "print(m)"
      ],
      "metadata": {
        "colab": {
          "base_uri": "https://localhost:8080/"
        },
        "id": "shg5Qe80QcK9",
        "outputId": "4aa7143f-46ea-428a-ad8c-9ecc0f1fad73"
      },
      "execution_count": null,
      "outputs": [
        {
          "output_type": "stream",
          "name": "stdout",
          "text": [
            "78.5\n"
          ]
        }
      ]
    },
    {
      "cell_type": "code",
      "source": [
        "class sakura_family:\n",
        "    def __init__(self, name, age, blood):\n",
        "        self.name = name\n",
        "        self.age = age\n",
        "        self.blood = blood\n",
        "\n",
        "#self = だれの...\n",
        "#使うときはself部分を名前に変える --> print(sakura.name, \"（名前）の年齢は\", sakura.age)\n",
        "'''\n",
        "クラスからインスタンス化してインスタンスしている\n",
        "'''"
      ],
      "metadata": {
        "id": "2ABgtji_UM5u"
      },
      "execution_count": null,
      "outputs": []
    }
  ]
}