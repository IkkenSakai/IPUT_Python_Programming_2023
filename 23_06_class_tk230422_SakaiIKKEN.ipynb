{
  "nbformat": 4,
  "nbformat_minor": 0,
  "metadata": {
    "colab": {
      "provenance": [],
      "authorship_tag": "ABX9TyPu7SpXVboxF3uiP+zejH3k",
      "include_colab_link": true
    },
    "kernelspec": {
      "name": "python3",
      "display_name": "Python 3"
    },
    "language_info": {
      "name": "python"
    }
  },
  "cells": [
    {
      "cell_type": "markdown",
      "metadata": {
        "id": "view-in-github",
        "colab_type": "text"
      },
      "source": [
        "<a href=\"https://colab.research.google.com/github/IkkenSakai/IPUT_Python_Programming_2023/blob/inclass_notes/23_06_class_tk230422_SakaiIKKEN.ipynb\" target=\"_parent\"><img src=\"https://colab.research.google.com/assets/colab-badge.svg\" alt=\"Open In Colab\"/></a>"
      ]
    },
    {
      "cell_type": "code",
      "execution_count": null,
      "metadata": {
        "id": "tqnjb-cxOoEa"
      },
      "outputs": [],
      "source": [
        "#今回からGoogle CollabでVimコマンド使ってみまーす\n",
        "#Tools --> Settings --> Editor --> Vim\n",
        "\n",
        "#比較演算子\n",
        "'''\n",
        "in, is演算子\n",
        "is と == の違い\n",
        "==: オブジェクトの見た目が同じかどうか\n",
        "is: オブジェクトIDを比較\n",
        "\n",
        "ID will be different when there is a brank in the strings.\n",
        "\"is\" is used rarely\n",
        "'''\n",
        "#文字列演算子 +, *\n",
        "#変数名.replace - 文字列の置き換え\n",
        "\n",
        "'''\n",
        "変数名をstr, int, ...などにしない!! --> 色が変わったら使わない\n",
        "'''\n",
        "\n",
        "#文字列の長さを調べる - len()"
      ]
    },
    {
      "cell_type": "code",
      "source": [
        "my_name = \"IKKEN SAKAI\"\n",
        "name = \"SAKAI\"\n",
        "\n",
        "if name in my_name:\n",
        "    print(\"Yes\")\n",
        "else:\n",
        "    print(\"No\")\n",
        "\n",
        "#逆に注意\n",
        "if my_name in name:\n",
        "    print(\"Yes\")\n",
        "else:\n",
        "    print(\"No\")"
      ],
      "metadata": {
        "colab": {
          "base_uri": "https://localhost:8080/"
        },
        "id": "Tau5DFp-QtL6",
        "outputId": "0d529398-7a36-4c65-e4eb-4cf2e5496422"
      },
      "execution_count": null,
      "outputs": [
        {
          "output_type": "stream",
          "name": "stdout",
          "text": [
            "No\n",
            "No\n"
          ]
        }
      ]
    },
    {
      "cell_type": "code",
      "source": [
        "my_name = \"IKKEN SAKAI\"\n",
        "name = \"SAKAI\"\n",
        "\n",
        "if name not in my_name:\n",
        "    print(\"Yes\")\n",
        "else:\n",
        "    print(\"No\")\n",
        "\n",
        "#逆に注意\n",
        "if my_name not in name:\n",
        "    print(\"Yes\")\n",
        "else:\n",
        "    print(\"No\")"
      ],
      "metadata": {
        "colab": {
          "base_uri": "https://localhost:8080/"
        },
        "id": "HH_iLkl1Rk5A",
        "outputId": "fa110b44-b052-475f-e32d-fa8a4bd30a71"
      },
      "execution_count": null,
      "outputs": [
        {
          "output_type": "stream",
          "name": "stdout",
          "text": [
            "No\n",
            "Yes\n"
          ]
        }
      ]
    },
    {
      "cell_type": "code",
      "source": [
        "a = \"IKKENSAKAI\"\n",
        "b = \"IKKENSAKAI\"\n",
        "\n",
        "if a is b:\n",
        "    print(\"Yes\")\n",
        "else:\n",
        "    print(\"No\")"
      ],
      "metadata": {
        "colab": {
          "base_uri": "https://localhost:8080/"
        },
        "id": "U4FKlWCGSkOg",
        "outputId": "eb556fb8-b79b-41ae-c84f-af87932bdce2"
      },
      "execution_count": null,
      "outputs": [
        {
          "output_type": "stream",
          "name": "stdout",
          "text": [
            "Yes\n"
          ]
        }
      ]
    },
    {
      "cell_type": "code",
      "source": [
        "a = \"IKKENSAKAI\"\n",
        "b = \"IKKENSAKAI\"\n",
        "\n",
        "if a is not b:\n",
        "    print(\"Yes\")\n",
        "else:\n",
        "    print(\"No\")"
      ],
      "metadata": {
        "colab": {
          "base_uri": "https://localhost:8080/"
        },
        "id": "HEh0Z0ZnSvXP",
        "outputId": "b6618781-16ee-427d-bd93-3e5d5b698bf7"
      },
      "execution_count": null,
      "outputs": [
        {
          "output_type": "stream",
          "name": "stdout",
          "text": [
            "No\n"
          ]
        }
      ]
    },
    {
      "cell_type": "code",
      "source": [
        "a = \"IKKEN SAKAI\"\n",
        "b = \"IKKEN SAKAI\"\n",
        "\n",
        "if a is b:\n",
        "    print(\"Yes\")\n",
        "else:\n",
        "    print(\"No\")"
      ],
      "metadata": {
        "colab": {
          "base_uri": "https://localhost:8080/"
        },
        "id": "gf-vnMIoT-HV",
        "outputId": "9a22f3da-4a26-46ce-aa33-a26f9ce1ea02"
      },
      "execution_count": null,
      "outputs": [
        {
          "output_type": "stream",
          "name": "stdout",
          "text": [
            "No\n"
          ]
        }
      ]
    },
    {
      "cell_type": "code",
      "source": [
        "a = \"IKKEN SAKAI\"\n",
        "b = \"IKKEN SAKAI\"\n",
        "\n",
        "if a is b:\n",
        "    print(\"Yes\")\n",
        "else:\n",
        "    print(\"No\")\n",
        "print(\"#空白ありID a\", id(a))\n",
        "print(\"#空白ありID b\", id(b))\n",
        "\n",
        "a = \"IKKENSAKAI\"\n",
        "b = \"IKKENSAKAI\"\n",
        "\n",
        "if a is b:\n",
        "    print(\"Yes\")\n",
        "else:\n",
        "    print(\"No\")\n",
        "print(\"#空白なしID a\", id(a))\n",
        "print(\"#空白なしID b\", id(b))"
      ],
      "metadata": {
        "colab": {
          "base_uri": "https://localhost:8080/"
        },
        "id": "xizxvOlJUfHG",
        "outputId": "0e9490bd-7af7-469a-edae-34381770ea53"
      },
      "execution_count": null,
      "outputs": [
        {
          "output_type": "stream",
          "name": "stdout",
          "text": [
            "No\n",
            "#空白ありID a 137550181978992\n",
            "#空白ありID b 137550181988720\n",
            "Yes\n",
            "#空白なしID a 137550181988528\n",
            "#空白なしID b 137550181988528\n"
          ]
        }
      ]
    },
    {
      "cell_type": "code",
      "source": [
        "#6-1\n",
        "\n",
        "x = 1\n",
        "y = 1\n",
        "z = 1\n",
        "\n",
        "if x is y is z is 1:\n",
        "    print(\"1辺が1cmの立方体\")\n",
        "else:\n",
        "    print(\"立方体かな？\")"
      ],
      "metadata": {
        "colab": {
          "base_uri": "https://localhost:8080/"
        },
        "id": "pMpK0nH7V6bR",
        "outputId": "acfa7f09-5b0b-4506-c661-6952d66a49bd"
      },
      "execution_count": null,
      "outputs": [
        {
          "output_type": "stream",
          "name": "stdout",
          "text": [
            "1辺が1cmの立方体\n"
          ]
        },
        {
          "output_type": "stream",
          "name": "stderr",
          "text": [
            "<>:7: SyntaxWarning: \"is\" with a literal. Did you mean \"==\"?\n",
            "<>:7: SyntaxWarning: \"is\" with a literal. Did you mean \"==\"?\n",
            "<ipython-input-21-678cb38a81fb>:7: SyntaxWarning: \"is\" with a literal. Did you mean \"==\"?\n",
            "  if x is y is z is 1:\n"
          ]
        }
      ]
    },
    {
      "cell_type": "code",
      "source": [
        "#6-1 advanced\n",
        "\n",
        "x = True\n",
        "y = True\n",
        "z = True\n",
        "\n",
        "l = [x,y,z]\n",
        "print(all(l))"
      ],
      "metadata": {
        "colab": {
          "base_uri": "https://localhost:8080/"
        },
        "id": "uu2qs0xYYlEe",
        "outputId": "6dbc1709-b413-48a3-c9d8-21727910d7b0"
      },
      "execution_count": null,
      "outputs": [
        {
          "output_type": "stream",
          "name": "stdout",
          "text": [
            "True\n"
          ]
        }
      ]
    },
    {
      "cell_type": "code",
      "source": [
        "text = \"私はIPUT東京の情報工学科の学生です。\"\n",
        "print(text[0]) #最初の1文字だけ\n",
        "print(text[:13]) #最初から13-1番目まで\n",
        "print(text[14:]) #14番目から最後まで\n",
        "print(text[2:13]) #2番目から13-1番目まで"
      ],
      "metadata": {
        "colab": {
          "base_uri": "https://localhost:8080/"
        },
        "id": "dbOAJwVYbQ8I",
        "outputId": "f4757996-d0b5-4c24-9696-8c8b5acb3d0d"
      },
      "execution_count": null,
      "outputs": [
        {
          "output_type": "stream",
          "name": "stdout",
          "text": [
            "私\n",
            "私はIPUT東京の情報工学\n",
            "の学生です。\n",
            "IPUT東京の情報工学\n"
          ]
        }
      ]
    },
    {
      "cell_type": "code",
      "source": [
        "'''\n",
        "文字列の置換はreplace()\n",
        "'''\n",
        "\n",
        "string = \"私はPythonが好きです。\"\n",
        "print(string)\n",
        "print(string.replace(\"Pythonが好き\", \"C言語が好き\"))"
      ],
      "metadata": {
        "colab": {
          "base_uri": "https://localhost:8080/"
        },
        "id": "p_fFqMs5eRKG",
        "outputId": "8aaff922-b80d-4d14-c432-7ed2f74f30d3"
      },
      "execution_count": null,
      "outputs": [
        {
          "output_type": "stream",
          "name": "stdout",
          "text": [
            "私はPythonが好きです。\n",
            "私はC言語が好きです。\n"
          ]
        }
      ]
    },
    {
      "cell_type": "code",
      "source": [
        "#6-2\n",
        "t = \"training\"\n",
        "print(t[1:5])"
      ],
      "metadata": {
        "colab": {
          "base_uri": "https://localhost:8080/"
        },
        "id": "CaVHb9MrheSg",
        "outputId": "598495dc-97aa-490c-e260-68366f279872"
      },
      "execution_count": null,
      "outputs": [
        {
          "output_type": "stream",
          "name": "stdout",
          "text": [
            "rain\n"
          ]
        }
      ]
    },
    {
      "cell_type": "code",
      "source": [
        "#6-2 advanced\n",
        "t = \"training\"\n",
        "print(t[0::2])"
      ],
      "metadata": {
        "id": "8SO8jqn7h7Nt",
        "colab": {
          "base_uri": "https://localhost:8080/"
        },
        "outputId": "a78c7eaa-fe14-43c0-cfc8-f3e90e4aa3a1"
      },
      "execution_count": null,
      "outputs": [
        {
          "output_type": "stream",
          "name": "stdout",
          "text": [
            "tann\n"
          ]
        }
      ]
    },
    {
      "cell_type": "code",
      "source": [
        "#6-3\n",
        "s = \"some1\"\n",
        "print(s.replace(\"1\", \"one\"))"
      ],
      "metadata": {
        "colab": {
          "base_uri": "https://localhost:8080/"
        },
        "id": "pEI7fMWWiMKw",
        "outputId": "24f6a164-c86b-401d-9344-e4f15742dbbe"
      },
      "execution_count": null,
      "outputs": [
        {
          "output_type": "stream",
          "name": "stdout",
          "text": [
            "someone\n"
          ]
        }
      ]
    },
    {
      "cell_type": "code",
      "source": [
        "#6-3 advanced\n",
        "a = \"a\"\n",
        "b = \"b\"\n",
        "print()"
      ],
      "metadata": {
        "colab": {
          "base_uri": "https://localhost:8080/"
        },
        "id": "J2z5N_dninU9",
        "outputId": "a4ec911f-156b-4b85-eafc-d5218d09cf91"
      },
      "execution_count": null,
      "outputs": [
        {
          "output_type": "stream",
          "name": "stdout",
          "text": [
            "\n"
          ]
        }
      ]
    },
    {
      "cell_type": "code",
      "source": [
        "#6-4\n",
        "q = \"How many characters?\"\n",
        "print(len(q))"
      ],
      "metadata": {
        "colab": {
          "base_uri": "https://localhost:8080/"
        },
        "id": "afCdZbtxizgH",
        "outputId": "49b01dfe-a521-41e1-af55-b2beb4f68c8a"
      },
      "execution_count": null,
      "outputs": [
        {
          "output_type": "stream",
          "name": "stdout",
          "text": [
            "20\n"
          ]
        }
      ]
    }
  ]
}