{
  "nbformat": 4,
  "nbformat_minor": 0,
  "metadata": {
    "colab": {
      "provenance": [],
      "authorship_tag": "ABX9TyND856SvHKrSBFXdEN94yCX",
      "include_colab_link": true
    },
    "kernelspec": {
      "name": "python3",
      "display_name": "Python 3"
    },
    "language_info": {
      "name": "python"
    }
  },
  "cells": [
    {
      "cell_type": "markdown",
      "metadata": {
        "id": "view-in-github",
        "colab_type": "text"
      },
      "source": [
        "<a href=\"https://colab.research.google.com/github/IkkenSakai/IPUT_Python_Programming_2023/blob/inclass_notes/23_05_class_tk230422_SakaiIKKEN.ipynb\" target=\"_parent\"><img src=\"https://colab.research.google.com/assets/colab-badge.svg\" alt=\"Open In Colab\"/></a>"
      ]
    },
    {
      "cell_type": "code",
      "execution_count": null,
      "metadata": {
        "id": "_TJ7uJN2Ly-h"
      },
      "outputs": [],
      "source": [
        "#nest = if文の中にif文の中に...if文がある(２階層まで)\n",
        "#Pythonはif文の中身をtabで字下げ(半角4こ分)\n",
        "'''\n",
        "インデント(tabのスペース)\n",
        ":がつく行 - ヘッダ行\n",
        "ヘッダ行の次は必ず字下げ\n",
        "'''\n"
      ]
    },
    {
      "cell_type": "code",
      "source": [
        "#a = 6\n",
        "#a = -1\n",
        "a = -11\n",
        "if a * 3 >= 0:\n",
        "    print(\"ハロウィン！\")\n",
        "elif a * 3 <= -10:\n",
        "    print(\"その前に課題だな・・・\")\n",
        "else:\n",
        "    print(\"クリスマス！！！\")"
      ],
      "metadata": {
        "colab": {
          "base_uri": "https://localhost:8080/"
        },
        "id": "vEye4SNKPLwM",
        "outputId": "4a98263e-e9b0-4af5-ed98-05826b09aba0"
      },
      "execution_count": null,
      "outputs": [
        {
          "output_type": "stream",
          "name": "stdout",
          "text": [
            "その前に課題だな・・・\n"
          ]
        }
      ]
    },
    {
      "cell_type": "code",
      "source": [
        "#課題6-1\n",
        "number = int(input(\"整数を入力してください\"))\n",
        "if number < 10:\n",
        "    print(\"10未満です\")\n",
        "else:\n",
        "    print(\"10以上です\")\n"
      ],
      "metadata": {
        "colab": {
          "base_uri": "https://localhost:8080/"
        },
        "id": "tcDsIjgDUMkG",
        "outputId": "4c3d1677-1cbf-48b3-d46c-2294df671b85"
      },
      "execution_count": null,
      "outputs": [
        {
          "output_type": "stream",
          "name": "stdout",
          "text": [
            "整数を入力してください3\n",
            "10未満です\n"
          ]
        }
      ]
    },
    {
      "cell_type": "code",
      "source": [
        "#5-1 advanced\n",
        "def advance():\n",
        "    number = input(\"整数を入力してください\")\n",
        "    try: #整数だった場合\n",
        "        number = int(number)\n",
        "        if number < 10:\n",
        "            print(\"10未満です\")\n",
        "        else:\n",
        "            print(\"10以上です\")\n",
        "    except: #整数じゃなかった場合\n",
        "        print(\"整数でたのむ\")\n",
        "        return advance() #最初に戻る\n",
        "\n",
        "number = advance()\n"
      ],
      "metadata": {
        "colab": {
          "base_uri": "https://localhost:8080/"
        },
        "id": "2-QR2hfbVt2w",
        "outputId": "d0b52a63-0383-4793-8eaa-8fb42753f13b"
      },
      "execution_count": null,
      "outputs": [
        {
          "output_type": "stream",
          "name": "stdout",
          "text": [
            "整数を入力してくださいあ\n",
            "整数でたのむ\n",
            "整数を入力してください2\n",
            "10未満です\n"
          ]
        }
      ]
    },
    {
      "cell_type": "code",
      "source": [
        "#5-2\n",
        "attendance = int(input(\"出席率\"))\n",
        "grade = int(input(\"成績\"))\n",
        "if attendance >= 80.0:\n",
        "    if grade >= 90.0:\n",
        "        print(\"S評価\")\n",
        "    else:\n",
        "        print(\"S評価まで頑張りましょう!\")\n",
        "else:\n",
        "    print(\"単位もらえないぞ!\")"
      ],
      "metadata": {
        "colab": {
          "base_uri": "https://localhost:8080/"
        },
        "id": "dFHz6LG2XT6p",
        "outputId": "626d7325-cf9d-4983-d272-fe8d42bf08e4"
      },
      "execution_count": null,
      "outputs": [
        {
          "output_type": "stream",
          "name": "stdout",
          "text": [
            "出席率90\n",
            "成績20\n",
            "S評価まで頑張りましょう!\n"
          ]
        }
      ]
    },
    {
      "cell_type": "code",
      "source": [
        "#5-2 advanced 1&2\n",
        "def advance():\n",
        "    attendance = input(\"出席率\")\n",
        "    grade = input(\"成績\")\n",
        "    try: #整数だった場合\n",
        "        attendance = int(attendance)\n",
        "        grade = int(grade)\n",
        "        if attendance >= 80.0:\n",
        "            if grade >= 90.0:\n",
        "                print(\"S評価\")\n",
        "            elif grade >= 60:\n",
        "                print(\"S評価まで頑張りましょう!\")\n",
        "            else:\n",
        "                print(\"R評価です\")\n",
        "        else:\n",
        "            print(\"単位もらえないぞ!\")\n",
        "    except: #整数以外の場合\n",
        "        print(\"整数で頼む\")\n",
        "        return advance()\n",
        "\n",
        "attendance = advance()"
      ],
      "metadata": {
        "id": "n3qB5nWvYuIW",
        "colab": {
          "base_uri": "https://localhost:8080/"
        },
        "outputId": "e94333da-a82c-43f9-dbb9-51e65ef80f50"
      },
      "execution_count": null,
      "outputs": [
        {
          "output_type": "stream",
          "name": "stdout",
          "text": [
            "出席率100\n",
            "成績80\n",
            "S評価まで頑張りましょう!\n"
          ]
        }
      ]
    },
    {
      "cell_type": "code",
      "source": [
        "#kadai 5-3\n",
        "drink = \"ice_tea\"\n",
        "if drink == \"ice_coffee\" or drink == \"hot_coffee\":\n",
        "    print(\"coffee\")\n",
        "elif drink == \"ice_tea\" or drink == \"hot_tea\":\n",
        "    print(\"tea\")\n",
        "else:\n",
        "    print(\"other_drink\")"
      ],
      "metadata": {
        "colab": {
          "base_uri": "https://localhost:8080/"
        },
        "id": "inOQr7_CePoh",
        "outputId": "48a9d466-ec0f-4654-9160-9cf144246947"
      },
      "execution_count": null,
      "outputs": [
        {
          "output_type": "stream",
          "name": "stdout",
          "text": [
            "tea\n"
          ]
        }
      ]
    },
    {
      "cell_type": "code",
      "source": [
        "#5-3 Advanced\n",
        "num = 6\n",
        "\n",
        "print(\"6の倍数です。\" if num % 2 == 0 and num %3 == 0 else \"３の倍数ではない偶数。\" if num % 2 == 0 and not num % 3 ==0 else \"偶数ではない！\")"
      ],
      "metadata": {
        "colab": {
          "base_uri": "https://localhost:8080/"
        },
        "id": "CWUZf5HGKT3j",
        "outputId": "71b41fb5-b2b8-4a78-d2e5-1b3cd81843ee"
      },
      "execution_count": null,
      "outputs": [
        {
          "output_type": "stream",
          "name": "stdout",
          "text": [
            "6の倍数です。\n"
          ]
        }
      ]
    }
  ]
}