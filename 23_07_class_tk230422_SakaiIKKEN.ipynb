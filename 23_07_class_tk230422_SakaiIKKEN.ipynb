{
  "nbformat": 4,
  "nbformat_minor": 0,
  "metadata": {
    "colab": {
      "provenance": [],
      "authorship_tag": "ABX9TyOP/H2oR6TSzqpYf7MM/T5v",
      "include_colab_link": true
    },
    "kernelspec": {
      "name": "python3",
      "display_name": "Python 3"
    },
    "language_info": {
      "name": "python"
    }
  },
  "cells": [
    {
      "cell_type": "markdown",
      "metadata": {
        "id": "view-in-github",
        "colab_type": "text"
      },
      "source": [
        "<a href=\"https://colab.research.google.com/github/IkkenSakai/IPUT_Python_Programming_2023/blob/inclass_notes/23_07_class_tk230422_SakaiIKKEN.ipynb\" target=\"_parent\"><img src=\"https://colab.research.google.com/assets/colab-badge.svg\" alt=\"Open In Colab\"/></a>"
      ]
    },
    {
      "cell_type": "code",
      "execution_count": null,
      "metadata": {
        "colab": {
          "base_uri": "https://localhost:8080/",
          "height": 35
        },
        "id": "gG8c9edJP9QP",
        "outputId": "f1368cc6-59d2-443c-afed-c933d7e462c7"
      },
      "outputs": [
        {
          "output_type": "execute_result",
          "data": {
            "text/plain": [
              "'\\n第１ - 開始値\\n第２ - 停止値\\n第３ - 間隔 (１番目に省略可)\\n'"
            ],
            "application/vnd.google.colaboratory.intrinsic+json": {
              "type": "string"
            }
          },
          "metadata": {},
          "execution_count": 29
        }
      ],
      "source": [
        "'''\n",
        "制御文 - if, for, while\n",
        "制御分をとにかくマスター！！ = 説明できるようにする\n",
        "'''\n",
        "#structure of for loop in Python\n",
        "#use \"in\" after \"for\"\n",
        "\n",
        "#____(___) <-- function\n",
        "\n",
        "#range(number)\n",
        "\n",
        "#range(第１引数, 第２引数, 第３引数)\n",
        "'''\n",
        "第１ - 開始値(二番目に省略可)\n",
        "第２ - 停止値\n",
        "第３ - 間隔 (１番目に省略可)\n",
        "'''\n",
        "\n",
        "#x = x + i = x += i\n",
        "\n",
        "#for と while の使い分け\n",
        "'''\n",
        "for\n",
        "1 - 繰り返す回数が決まっている\n",
        "2 - リストの処理\n",
        "\n",
        "while\n",
        "1 - 繰り返す数が未定\n",
        "2 - 繰り返し条件がいつか必ずFalseになる\n",
        "'''\n",
        "\n",
        "#リスト\n",
        "#name = python --> name[0][1][2][3][4][5]に一文字一文字分けられる(添字j)\n"
      ]
    },
    {
      "cell_type": "code",
      "source": [
        "for i in range(12):\n",
        "    print(i + 1, \"月\")"
      ],
      "metadata": {
        "colab": {
          "base_uri": "https://localhost:8080/"
        },
        "id": "Ja4J6btHVhEw",
        "outputId": "d61bcb5e-6246-4c2c-f701-4143fea36de6"
      },
      "execution_count": null,
      "outputs": [
        {
          "output_type": "stream",
          "name": "stdout",
          "text": [
            "1 月\n",
            "2 月\n",
            "3 月\n",
            "4 月\n",
            "5 月\n",
            "6 月\n",
            "7 月\n",
            "8 月\n",
            "9 月\n",
            "10 月\n",
            "11 月\n",
            "12 月\n"
          ]
        }
      ]
    },
    {
      "cell_type": "code",
      "source": [
        "#range(2)\n",
        "print(\"in case of range(2)\")\n",
        "for i in range(2):\n",
        "    print(i+1, \"月\")\n",
        "\n",
        "#range(3, 6)\n",
        "print(\"in case of range(3,6)\")\n",
        "for i in range(3,6):\n",
        "    print(i + 1, \"月o\")\n",
        "\n",
        "#range(0, 10, 2)\n",
        "print(\"in case of range(0, 10, 2)\")\n",
        "for i in range(0, 10, 2):\n",
        "    print(i + 1, \"月\")"
      ],
      "metadata": {
        "colab": {
          "base_uri": "https://localhost:8080/"
        },
        "id": "EoejC8-3WfHp",
        "outputId": "bb18bad6-eb91-4d7c-a391-eea4e55115da"
      },
      "execution_count": null,
      "outputs": [
        {
          "output_type": "stream",
          "name": "stdout",
          "text": [
            "in case of range(2)\n",
            "1 月\n",
            "2 月\n",
            "in case of range(3,6)\n",
            "4 月o\n",
            "5 月o\n",
            "6 月o\n",
            "in case of range(0, 10, 2)\n",
            "1 月\n",
            "3 月\n",
            "5 月\n",
            "7 月\n",
            "9 月\n"
          ]
        }
      ]
    },
    {
      "cell_type": "code",
      "source": [
        "#7-1\n",
        "n = 0\n",
        "for i in range(1, 101, 1): #第２引数の101に注意！！\n",
        "    n = n + i #n += i\n",
        "print(n)"
      ],
      "metadata": {
        "colab": {
          "base_uri": "https://localhost:8080/"
        },
        "id": "irmnM9e2YtUU",
        "outputId": "a4152fa2-e5bd-4cbc-93a0-1b44fb58cf44"
      },
      "execution_count": null,
      "outputs": [
        {
          "output_type": "stream",
          "name": "stdout",
          "text": [
            "5050\n"
          ]
        }
      ]
    },
    {
      "cell_type": "code",
      "source": [
        "#7-1 advance\n",
        "\n",
        "#...\n",
        "sum(range(1, 101))"
      ],
      "metadata": {
        "colab": {
          "base_uri": "https://localhost:8080/"
        },
        "id": "EnXLbyRsa5fO",
        "outputId": "6d5262be-0e1d-4504-8ae7-566873cd348b"
      },
      "execution_count": null,
      "outputs": [
        {
          "output_type": "execute_result",
          "data": {
            "text/plain": [
              "5050"
            ]
          },
          "metadata": {},
          "execution_count": 16
        }
      ]
    },
    {
      "cell_type": "code",
      "source": [
        "i = 0\n",
        "while(i < 5):\n",
        "    print(i)\n",
        "    i += 1 #"
      ],
      "metadata": {
        "colab": {
          "base_uri": "https://localhost:8080/"
        },
        "id": "Ty2KgpBFbjIH",
        "outputId": "c37f4ac3-4f12-4622-cf9c-7d0f55b97ef1"
      },
      "execution_count": null,
      "outputs": [
        {
          "output_type": "stream",
          "name": "stdout",
          "text": [
            "0\n",
            "1\n",
            "2\n",
            "3\n",
            "4\n"
          ]
        }
      ]
    },
    {
      "cell_type": "code",
      "source": [
        "#7-2\n",
        "n = 0\n",
        "i = 1\n",
        "while i <= 100:\n",
        "    n += i\n",
        "    i += 1\n",
        "print(n)"
      ],
      "metadata": {
        "colab": {
          "base_uri": "https://localhost:8080/"
        },
        "id": "91IKXpp_dTM-",
        "outputId": "282eaa56-b4e5-4c3b-ae70-42b011b68020"
      },
      "execution_count": null,
      "outputs": [
        {
          "output_type": "stream",
          "name": "stdout",
          "text": [
            "5050\n"
          ]
        }
      ]
    },
    {
      "cell_type": "code",
      "source": [
        "for chr in \"Python\":\n",
        "    print(chr)"
      ],
      "metadata": {
        "colab": {
          "base_uri": "https://localhost:8080/"
        },
        "id": "UP78ig5mhQBw",
        "outputId": "e3d3d454-3550-433e-e62f-03c145494786"
      },
      "execution_count": null,
      "outputs": [
        {
          "output_type": "stream",
          "name": "stdout",
          "text": [
            "P\n",
            "y\n",
            "t\n",
            "h\n",
            "o\n",
            "n\n"
          ]
        }
      ]
    },
    {
      "cell_type": "code",
      "source": [
        "list_Python = [\"P\", \"y\", \"t\", \"h\", \"o\", \"n\"]\n",
        "list_number = [1, 2.3, 0.5, -3]\n",
        "print(list_Python)\n",
        "print(list_Python[3])\n",
        "print(list_number)\n",
        "print(list_number[-1]) #[-1]で一番最後を取り出せる"
      ],
      "metadata": {
        "colab": {
          "base_uri": "https://localhost:8080/"
        },
        "id": "6OEcM_qFiTci",
        "outputId": "ef4f4e9e-57b2-4443-d5eb-f47dd5c95f7a"
      },
      "execution_count": null,
      "outputs": [
        {
          "output_type": "stream",
          "name": "stdout",
          "text": [
            "['P', 'y', 't', 'h', 'o', 'n']\n",
            "h\n",
            "[1, 2.3, 0.5, -3]\n",
            "-3\n"
          ]
        }
      ]
    },
    {
      "cell_type": "code",
      "source": [
        "#7-3\n",
        "professor = [\"斎藤亜紀\", \"鈴木\", \"駒井\", \"上條\", \"三宅\", \"大関\"]\n",
        "i = 0\n",
        "for num in professor:\n",
        "    print(\"研究室\", i+10 , \"には\" , num , \"先生がいます\")\n",
        "    i += 1"
      ],
      "metadata": {
        "colab": {
          "base_uri": "https://localhost:8080/"
        },
        "id": "HFqvJwo8j3gG",
        "outputId": "2e0b16a2-b911-495c-b574-33e9542f9098"
      },
      "execution_count": null,
      "outputs": [
        {
          "output_type": "stream",
          "name": "stdout",
          "text": [
            "研究室 10 には 斎藤亜紀 先生がいます\n",
            "研究室 11 には 鈴木 先生がいます\n",
            "研究室 12 には 駒井 先生がいます\n",
            "研究室 13 には 上條 先生がいます\n",
            "研究室 14 には 三宅 先生がいます\n",
            "研究室 15 には 大関 先生がいます\n"
          ]
        }
      ]
    },
    {
      "cell_type": "code",
      "source": [
        "#7-3 advance\n",
        "professor = [\"斎藤亜紀\", \"鈴木\", \"駒井\", \"上條\", \"三宅\", \"大関\"]\n",
        "i = 0\n",
        "for num in professor:\n",
        "    n = str(i + 10)\n",
        "    print(\"研究室\" + n + \"には\" + num + \"先生がいます\")\n",
        "    i += 1"
      ],
      "metadata": {
        "colab": {
          "base_uri": "https://localhost:8080/"
        },
        "outputId": "54c51dce-75cd-4bc8-c43a-1307dda5e4f1",
        "id": "ZYj3qou7mPux"
      },
      "execution_count": null,
      "outputs": [
        {
          "output_type": "stream",
          "name": "stdout",
          "text": [
            "研究室10には斎藤亜紀先生がいます\n",
            "研究室11には鈴木先生がいます\n",
            "研究室12には駒井先生がいます\n",
            "研究室13には上條先生がいます\n",
            "研究室14には三宅先生がいます\n",
            "研究室15には大関先生がいます\n"
          ]
        }
      ]
    }
  ]
}