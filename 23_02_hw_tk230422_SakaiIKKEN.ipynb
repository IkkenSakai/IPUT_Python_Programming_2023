{
  "nbformat": 4,
  "nbformat_minor": 0,
  "metadata": {
    "colab": {
      "provenance": [],
      "authorship_tag": "ABX9TyNxAP9CrGbPVU9KG8Hens/6",
      "include_colab_link": true
    },
    "kernelspec": {
      "name": "python3",
      "display_name": "Python 3"
    },
    "language_info": {
      "name": "python"
    }
  },
  "cells": [
    {
      "cell_type": "markdown",
      "metadata": {
        "id": "view-in-github",
        "colab_type": "text"
      },
      "source": [
        "<a href=\"https://colab.research.google.com/github/IkkenSakai/IPUT_Python_Programming_2023/blob/homework/23_02_hw_tk230422_SakaiIKKEN.ipynb\" target=\"_parent\"><img src=\"https://colab.research.google.com/assets/colab-badge.svg\" alt=\"Open In Colab\"/></a>"
      ]
    },
    {
      "cell_type": "code",
      "execution_count": null,
      "metadata": {
        "id": "da33E8AV_Z6g",
        "colab": {
          "base_uri": "https://localhost:8080/"
        },
        "outputId": "0e0e9581-e2b0-4379-9068-91d43f723074"
      },
      "outputs": [
        {
          "output_type": "stream",
          "name": "stdout",
          "text": [
            "2023東京国際工科専門職大学PythonPythonPython\n"
          ]
        }
      ],
      "source": [
        "#Python\n",
        "\n",
        "year = 4046 // 2\n",
        "name = str(year) + \"東京国際工科専門職大学\" + \"Python\" * 3\n",
        "print(name)"
      ]
    }
  ]
}