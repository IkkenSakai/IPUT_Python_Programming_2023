{
  "nbformat": 4,
  "nbformat_minor": 0,
  "metadata": {
    "colab": {
      "provenance": [],
      "authorship_tag": "ABX9TyNVhF9l9D/KEVeIx3A4AaJm",
      "include_colab_link": true
    },
    "kernelspec": {
      "name": "python3",
      "display_name": "Python 3"
    },
    "language_info": {
      "name": "python"
    }
  },
  "cells": [
    {
      "cell_type": "markdown",
      "metadata": {
        "id": "view-in-github",
        "colab_type": "text"
      },
      "source": [
        "<a href=\"https://colab.research.google.com/github/IkkenSakai/IPUT_Python_Programming_2023/blob/inclass_notes/23_09_class_tk230422_SakaiIKKEN.ipynb\" target=\"_parent\"><img src=\"https://colab.research.google.com/assets/colab-badge.svg\" alt=\"Open In Colab\"/></a>"
      ]
    },
    {
      "cell_type": "code",
      "execution_count": null,
      "metadata": {
        "colab": {
          "base_uri": "https://localhost:8080/"
        },
        "id": "OLB3BR--YTzD",
        "outputId": "3a43162b-d11c-4beb-e235-7b0e2ceca695"
      },
      "outputs": [
        {
          "output_type": "stream",
          "name": "stdout",
          "text": [
            "果物コード1は Orange\n",
            "blueは漢字で 青\n"
          ]
        }
      ],
      "source": [
        "#辞書型(dictionary)\n",
        "#辞書型はappendいらない 辞書名[アドレス]\n",
        "\n",
        "#dname = {key:value} (key:value) = item\n",
        "'''\n",
        "a.get(\"something\") - somethingの鍵をゲット\n",
        "\n",
        "削除\n",
        "del - 鍵を指定して削除\n",
        "pop - decide the index to delete(it returns the value)\n",
        "clear - delete all\n",
        "'''\n",
        "\n",
        "#データ型 4種類\n",
        "'''\n",
        "list - []\n",
        "tuple - () - リストとほぼ一緒（変更、追加、削除できない） 絶対変更させないとき\n",
        "dict - {}\n",
        "set - set()　確率求めたり、順不同のやつとか(ランダム) = 集合演算\n",
        "'''\n",
        "\n",
        "n.keys\n",
        "n.values\n",
        "n, m ,items"
      ]
    },
    {
      "cell_type": "code",
      "source": [
        "#8-4\n",
        "l = list(range(11))\n",
        "a = l[::2]  #get even numbers from listl\n",
        "for i in a:\n",
        "    l.remove(i) #remove even numbers from listl\n",
        "print(l)\n",
        "\n",
        "'''\n",
        "for a in list_odd:\n",
        "    if a % 2 == 0:\n",
        "        list_odd.remove(a)\n",
        "print(l)\n",
        "'''"
      ],
      "metadata": {
        "colab": {
          "base_uri": "https://localhost:8080/"
        },
        "id": "l0ORllkUZG_0",
        "outputId": "53b42263-2349-4758-9858-959b2856cde3"
      },
      "execution_count": null,
      "outputs": [
        {
          "output_type": "stream",
          "name": "stdout",
          "text": [
            "[1, 3, 5, 7, 9]\n"
          ]
        }
      ]
    },
    {
      "cell_type": "code",
      "source": [
        "fruit = {1: \"Orange\", 2: \"Lemon\", 3: \"Peach\"}\n",
        "color = {\"red\": \"赤\", \"blue\": \"青\", \"yellow\": \"黄色\"}\n",
        "print(\"果物コード1は\", fruit[1])\n",
        "print(\"blueは漢字で\", color[\"blue\"])\n",
        "fruit[4] = \"Apple\"\n",
        "print(fruit)\n",
        "fruit[4] = \"Pineapple\"\n",
        "print(fruit)\n",
        "print(color)\n",
        "print(color.keys())\n",
        "print(color.values())\n",
        "print(color.items())"
      ],
      "metadata": {
        "colab": {
          "base_uri": "https://localhost:8080/"
        },
        "id": "r4EHLAYSdTm1",
        "outputId": "0f53b092-b3ae-44d2-a316-27b3b6aab801"
      },
      "execution_count": null,
      "outputs": [
        {
          "output_type": "stream",
          "name": "stdout",
          "text": [
            "果物コード1は Orange\n",
            "blueは漢字で 青\n",
            "{1: 'Orange', 2: 'Lemon', 3: 'Peach', 4: 'Apple'}\n",
            "{1: 'Orange', 2: 'Lemon', 3: 'Peach', 4: 'Pineapple'}\n",
            "{'red': '赤', 'blue': '青', 'yellow': '黄色'}\n",
            "dict_keys(['red', 'blue', 'yellow'])\n",
            "dict_values(['赤', '青', '黄色'])\n",
            "dict_items([('red', '赤'), ('blue', '青'), ('yellow', '黄色')])\n"
          ]
        }
      ]
    },
    {
      "cell_type": "code",
      "source": [
        "score = {\"name\": \"IkkenSAKAI\", \"Math\" : 50, \"English\": 90, \"Python\": 80}\n",
        "print(score.get(\"name\"))\n",
        "print(score.get(\"science\"))\n",
        "print(\"name\" in score)\n",
        "print(\"science\" in score)\n",
        "del score[\"name\"]\n",
        "print(score)\n",
        "score.clear()\n",
        "print(score)"
      ],
      "metadata": {
        "colab": {
          "base_uri": "https://localhost:8080/"
        },
        "id": "eZkJGsflhAji",
        "outputId": "a7e72220-3650-4e94-d049-b756ef74d6b8"
      },
      "execution_count": null,
      "outputs": [
        {
          "output_type": "stream",
          "name": "stdout",
          "text": [
            "IkkenSAKAI\n",
            "None\n",
            "True\n",
            "False\n",
            "{'Math': 50, 'English': 90, 'Python': 80}\n",
            "{}\n"
          ]
        }
      ]
    },
    {
      "cell_type": "code",
      "source": [
        "#9-1\n",
        "alpha = {\"A\": \"Apple\", \"B\": \"Ball\", \"C\": \"Cat\"}\n",
        "print(\"初期値\", alpha)\n",
        "print(\"Aだけ取り出し \", alpha.get(\"A\"))\n",
        "alpha[\"D\"] = \"Desk\"\n",
        "print(\"Dを追加 \", alpha)\n",
        "alpha[\"C\"] = \"Cold\"\n",
        "print(\"Cを変更 \", alpha)\n",
        "del alpha[\"B\"]\n",
        "print(\"Bを削除 \", alpha)\n"
      ],
      "metadata": {
        "colab": {
          "base_uri": "https://localhost:8080/"
        },
        "id": "mYdBKQwijpyg",
        "outputId": "8831cb68-0e04-4201-b40a-6e08123961fd"
      },
      "execution_count": null,
      "outputs": [
        {
          "output_type": "stream",
          "name": "stdout",
          "text": [
            "初期値 {'A': 'Apple', 'B': 'Ball', 'C': 'Cat'}\n",
            "Aだけ取り出し  Apple\n",
            "Dを追加  {'A': 'Apple', 'B': 'Ball', 'C': 'Cat', 'D': 'Desk'}\n",
            "Cを変更  {'A': 'Apple', 'B': 'Ball', 'C': 'Cold', 'D': 'Desk'}\n",
            "Bを削除  {'A': 'Apple', 'C': 'Cold', 'D': 'Desk'}\n"
          ]
        }
      ]
    },
    {
      "cell_type": "code",
      "source": [
        "dict1 = {\"東京\": 800, \"大阪\": 640, \"名古屋\": 480}\n",
        "\n",
        "for k1 in dict1:\n",
        "    print(k1)\n"
      ],
      "metadata": {
        "colab": {
          "base_uri": "https://localhost:8080/"
        },
        "id": "HbZFxTq8paDW",
        "outputId": "ca745d41-f239-4293-e2fd-2f19254fa36a"
      },
      "execution_count": null,
      "outputs": [
        {
          "output_type": "stream",
          "name": "stdout",
          "text": [
            "東京\n",
            "大阪\n",
            "名古屋\n"
          ]
        }
      ]
    },
    {
      "cell_type": "code",
      "source": [
        "#9-2\n",
        "data_dict = {\"first\": \"Hiroyuki\", \"family\": \"YOSHIKAWA\", \"country\": \"Japan\"}\n",
        "for i, k in data_dict.items():\n",
        "    print(i, \":\", k)\n",
        "\n",
        "print(\"-----------------------------\")\n",
        "for i in data_dict:\n",
        "    print(i, \":\", data_dict[i])"
      ],
      "metadata": {
        "colab": {
          "base_uri": "https://localhost:8080/"
        },
        "id": "b-girunNqj5v",
        "outputId": "a128c763-235d-42b0-f2e1-e8a42049a167"
      },
      "execution_count": null,
      "outputs": [
        {
          "output_type": "stream",
          "name": "stdout",
          "text": [
            "first : Hiroyuki\n",
            "family : YOSHIKAWA\n",
            "country : Japan\n",
            "-----------------------------\n",
            "first : Hiroyuki\n",
            "family : YOSHIKAWA\n",
            "country : Japan\n"
          ]
        }
      ]
    }
  ]
}